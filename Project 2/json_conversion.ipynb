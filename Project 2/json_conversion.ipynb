{
 "cells": [
  {
   "cell_type": "code",
   "execution_count": 1,
   "metadata": {},
   "outputs": [],
   "source": [
    "# Dependencies\n",
    "import csv\n",
    "import json\n",
    "import pandas as pd\n",
    "from sqlalchemy import create_engine"
   ]
  },
  {
   "cell_type": "code",
   "execution_count": 2,
   "metadata": {},
   "outputs": [],
   "source": [
    "# Create file path for josn file\n",
    "jsonFilePath = 'data/data.json'"
   ]
  },
  {
   "cell_type": "code",
   "execution_count": 3,
   "metadata": {},
   "outputs": [],
   "source": [
    "#Create nested dictionaries from csv file\n",
    "filePath = open('data/judge_data.csv', 'r')\n",
    "\n",
    "reader = csv.reader(filePath)\n",
    "\n",
    "court_dict = {}\n",
    "\n",
    "for row in reader:\n",
    "    court_dict['name'] = row[0]\n",
    "    if not 'children' in court_dict:\n",
    "        court_dict['children'] = []\n",
    "    court_index = [ind for ind, x in enumerate(court_dict['children']) if x['name'] == row[1]]\n",
    "    if len(court_index) == 0:\n",
    "        court_dict['children'].append({'name' : row[1], 'children': []})\n",
    "        court_index = len(court_dict['children']) - 1\n",
    "    else:\n",
    "        court_index = court_index[0]       \n",
    "    gender_index = [ind for ind, x in enumerate(court_dict['children'][court_index]['children']) if x['name'] == row[2]]\n",
    "    if len(gender_index) == 0:\n",
    "        court_dict['children'][court_index]['children'].append({'name' : row[2], 'children': []})\n",
    "        gender_index = len(court_dict['children'][court_index]['children']) - 1\n",
    "    else:\n",
    "        gender_index = gender_index[0]\n",
    "    gender_value_index = [ind for ind, x in enumerate(court_dict['children'][court_index]['children'][gender_index]['children']) if x['name'] == row[3]]\n",
    "    if len(gender_value_index) == 0:\n",
    "        court_dict['children'][court_index]['children'][gender_index]['children'].append({'name' : row[3], 'children': []})\n",
    "        gender_value_index = len(court_dict['children'][court_index]['children'][gender_index]['children']) - 1\n",
    "    else:\n",
    "        gender_value_index = gender_value_index[0]\n",
    "    race_index = [ind for ind, x in enumerate(court_dict['children'][court_index]['children'][gender_index]['children'][gender_value_index]['children']) if x['name'] == row[4]]\n",
    "    if len(race_index) == 0:\n",
    "        court_dict['children'][court_index]['children'][gender_index]['children'][gender_value_index]['children'].append({'name' : row[4], 'children': []})\n",
    "        race_index = len(court_dict['children'][court_index]['children'][gender_index]['children'][gender_value_index]['children']) - 1\n",
    "    else:\n",
    "        race_index = race_index[0]\n",
    "    race_value_index = [ind for ind, x in enumerate(court_dict['children'][court_index]['children'][gender_index]['children'][gender_value_index]['children'][race_index]['children']) if x['name'] == row[5]]\n",
    "    if len(race_value_index) == 0:\n",
    "        court_dict['children'][court_index]['children'][gender_index]['children'][gender_value_index]['children'][race_index]['children'].append({'name' : row[5], 'children': []})\n",
    "        race_value_index = len(court_dict['children'][court_index]['children'][gender_index]['children'][gender_value_index]['children'][race_index]['children']) - 1\n",
    "    else:\n",
    "        race_value_index = race_value_index[0]\n",
    "    judge_index = [ind for ind, x in enumerate(court_dict['children'][court_index]['children'][gender_index]['children'][gender_value_index]['children'][race_index]['children'][race_value_index]['children']) if x['name'] == row[6]]\n",
    "    if len(judge_index) == 0:\n",
    "        court_dict['children'][court_index]['children'][gender_index]['children'][gender_value_index]['children'][race_index]['children'][race_value_index]['children'].append({'name' : row[6], 'size': row[7]})\n",
    "        judge_index = len(court_dict['children'][court_index]['children'][gender_index]['children'][gender_value_index]['children'][race_index]['children'][race_value_index]['children']) - 1\n",
    "    else:\n",
    "        judge_index = judge_index[0]"
   ]
  },
  {
   "cell_type": "code",
   "execution_count": 4,
   "metadata": {},
   "outputs": [],
   "source": [
    "# Create new json file and write to it\n",
    "with open(jsonFilePath, 'w') as jsonFile:\n",
    "    jsonFile.write(json.dumps(court_dict, indent=4))"
   ]
  },
  {
   "cell_type": "code",
   "execution_count": 5,
   "metadata": {},
   "outputs": [
    {
     "data": {
      "text/html": "<div>\n<style scoped>\n    .dataframe tbody tr th:only-of-type {\n        vertical-align: middle;\n    }\n\n    .dataframe tbody tr th {\n        vertical-align: top;\n    }\n\n    .dataframe thead th {\n        text-align: right;\n    }\n</style>\n<table border=\"1\" class=\"dataframe\">\n  <thead>\n    <tr style=\"text-align: right;\">\n      <th></th>\n      <th>jid</th>\n      <th>nid</th>\n      <th>last_name</th>\n      <th>first_name</th>\n      <th>middle_name</th>\n      <th>suffix</th>\n      <th>birth_month</th>\n      <th>birth_day</th>\n      <th>birth_year</th>\n      <th>birth_city</th>\n      <th>birth_state</th>\n      <th>gender</th>\n      <th>race_or_ethnicity</th>\n      <th>court_type</th>\n    </tr>\n  </thead>\n  <tbody>\n    <tr>\n      <th>0</th>\n      <td>3563</td>\n      <td>1394646</td>\n      <td>Abrams</td>\n      <td>Leslie</td>\n      <td>Joyce</td>\n      <td></td>\n      <td>NaN</td>\n      <td>NaN</td>\n      <td>1974</td>\n      <td>Madison</td>\n      <td>WI</td>\n      <td>Female</td>\n      <td>African American</td>\n      <td>U.S. District Court</td>\n    </tr>\n    <tr>\n      <th>1</th>\n      <td>3419</td>\n      <td>1393931</td>\n      <td>Abrams</td>\n      <td>Ronnie</td>\n      <td></td>\n      <td></td>\n      <td>NaN</td>\n      <td>NaN</td>\n      <td>1968</td>\n      <td>New York</td>\n      <td>NY</td>\n      <td>Female</td>\n      <td>White</td>\n      <td>U.S. District Court</td>\n    </tr>\n    <tr>\n      <th>2</th>\n      <td>1</td>\n      <td>1376976</td>\n      <td>Abruzzo</td>\n      <td>Matthew</td>\n      <td>T.</td>\n      <td></td>\n      <td>4.0</td>\n      <td>30.0</td>\n      <td>1889</td>\n      <td>Brooklyn</td>\n      <td>NY</td>\n      <td>Male</td>\n      <td>White</td>\n      <td>U.S. District Court</td>\n    </tr>\n    <tr>\n      <th>3</th>\n      <td>2</td>\n      <td>1376981</td>\n      <td>Acheson</td>\n      <td>Marcus</td>\n      <td>Wilson</td>\n      <td></td>\n      <td>6.0</td>\n      <td>7.0</td>\n      <td>1828</td>\n      <td>Washington</td>\n      <td>PA</td>\n      <td>Male</td>\n      <td>White</td>\n      <td>U.S. District Court</td>\n    </tr>\n    <tr>\n      <th>4</th>\n      <td>3</td>\n      <td>1376986</td>\n      <td>Acker</td>\n      <td>William</td>\n      <td>Marsh</td>\n      <td>Jr.</td>\n      <td>10.0</td>\n      <td>25.0</td>\n      <td>1927</td>\n      <td>Birmingham</td>\n      <td>AL</td>\n      <td>Male</td>\n      <td>White</td>\n      <td>U.S. District Court</td>\n    </tr>\n  </tbody>\n</table>\n</div>",
      "text/plain": "    jid      nid last_name first_name middle_name suffix  birth_month  \\\n0  3563  1394646    Abrams     Leslie       Joyce                 NaN   \n1  3419  1393931    Abrams     Ronnie                             NaN   \n2     1  1376976   Abruzzo    Matthew          T.                 4.0   \n3     2  1376981   Acheson     Marcus      Wilson                 6.0   \n4     3  1376986     Acker    William       Marsh    Jr.         10.0   \n\n   birth_day  birth_year  birth_city birth_state  gender race_or_ethnicity  \\\n0        NaN        1974     Madison          WI  Female  African American   \n1        NaN        1968    New York          NY  Female             White   \n2       30.0        1889    Brooklyn          NY    Male             White   \n3        7.0        1828  Washington          PA    Male             White   \n4       25.0        1927  Birmingham          AL    Male             White   \n\n            court_type  \n0  U.S. District Court  \n1  U.S. District Court  \n2  U.S. District Court  \n3  U.S. District Court  \n4  U.S. District Court  "
     },
     "execution_count": 5,
     "metadata": {},
     "output_type": "execute_result"
    }
   ],
   "source": [
    "# Extract CSV into DataFrames\n",
    "courts_file = 'data/court_demographics.csv'\n",
    "courts_df = pd.read_csv(courts_file)\n",
    "courts_df.head()"
   ]
  },
  {
   "cell_type": "code",
   "execution_count": 6,
   "metadata": {},
   "outputs": [],
   "source": [
    "# Connection to the database\n",
    "connection_string = \"postgres:Hercules19!@localhost:5432/courts_db\"\n",
    "engine = create_engine(f'postgresql://{connection_string}')"
   ]
  },
  {
   "cell_type": "code",
   "execution_count": 7,
   "metadata": {},
   "outputs": [
    {
     "data": {
      "text/plain": "['courts']"
     },
     "execution_count": 7,
     "metadata": {},
     "output_type": "execute_result"
    }
   ],
   "source": [
    "# Confirm tables\n",
    "engine.table_names()"
   ]
  },
  {
   "cell_type": "code",
   "execution_count": 8,
   "metadata": {},
   "outputs": [],
   "source": [
    "# Write dataframe into table in database\n",
    "courts_df.to_sql(name='courts', con=engine, if_exists='append', index=False)"
   ]
  },
  {
   "cell_type": "code",
   "execution_count": null,
   "metadata": {},
   "outputs": [],
   "source": []
  }
 ],
 "metadata": {
  "file_extension": ".py",
  "kernelspec": {
   "display_name": "Python 3",
   "language": "python",
   "name": "python3"
  },
  "language_info": {
   "codemirror_mode": {
    "name": "ipython",
    "version": 3
   },
   "file_extension": ".py",
   "mimetype": "text/x-python",
   "name": "python",
   "nbconvert_exporter": "python",
   "pygments_lexer": "ipython3",
   "version": "3.7.3-final"
  },
  "mimetype": "text/x-python",
  "name": "python",
  "npconvert_exporter": "python",
  "pygments_lexer": "ipython3",
  "version": 3
 },
 "nbformat": 4,
 "nbformat_minor": 2
}