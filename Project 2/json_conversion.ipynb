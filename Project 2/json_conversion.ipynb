{
 "cells": [
  {
   "cell_type": "code",
   "execution_count": 544,
   "metadata": {},
   "outputs": [],
   "source": [
    "# Dependencies\n",
    "import csv\n",
    "import json"
   ]
  },
  {
   "cell_type": "code",
   "execution_count": 545,
   "metadata": {},
   "outputs": [],
   "source": [
    "# Create file path for josn file\n",
    "jsonFilePath = 'data/data.json'"
   ]
  },
  {
   "cell_type": "code",
   "execution_count": 560,
   "metadata": {},
   "outputs": [],
   "source": [
    "#Create nested dictionaries from csv file\n",
    "filePath = open('data/judge_data_raw.csv', 'r')\n",
    "\n",
    "reader = csv.reader(filePath)\n",
    "\n",
    "court_dict = {}\n",
    "\n",
    "for row in reader:\n",
    "    court_dict['name'] = row[0]\n",
    "    if not 'children' in court_dict:\n",
    "        court_dict['children'] = []\n",
    "    court_index = [ind for ind, x in enumerate(court_dict['children']) if x['name'] == row[1]]\n",
    "    if len(court_index) == 0:\n",
    "        court_dict['children'].append({'name' : row[1], 'children': []})\n",
    "        court_index = len(court_dict['children']) - 1\n",
    "    else:\n",
    "        court_index = court_index[0]       \n",
    "    gender_index = [ind for ind, x in enumerate(court_dict['children'][court_index]['children']) if x['name'] == row[2]]\n",
    "    if len(gender_index) == 0:\n",
    "        court_dict['children'][court_index]['children'].append({'name' : row[2], 'children': []})\n",
    "        gender_index = len(court_dict['children'][court_index]) - 1\n",
    "    else:\n",
    "        gender_index = gender_index[0]\n",
    "    # race_index = [ind for ind, x in enumerate(court_dict['children'][court_index]['children'][gender_index]['children']) if x['name'] == row[3]]\n",
    "    # if len(race_index) == 0:\n",
    "    #     court_dict['children'][court_index]['children'][gender_index]['children'].append({'name' : row[3], 'children': []})\n",
    "    #     race_index = len(court_dict['children'][court_index]['children'][gender_index]) - 1\n",
    "    # else:\n",
    "    #     race_index = race_index[0]"
   ]
  },
  {
   "cell_type": "code",
   "execution_count": 561,
   "metadata": {},
   "outputs": [],
   "source": [
    "# Create new json file and write to it\n",
    "with open(jsonFilePath, 'w') as jsonFile:\n",
    "    jsonFile.write(json.dumps(court_dict, indent=4))"
   ]
  }
 ],
 "metadata": {
  "file_extension": ".py",
  "kernelspec": {
   "display_name": "Python 3",
   "language": "python",
   "name": "python3"
  },
  "language_info": {
   "codemirror_mode": {
    "name": "ipython",
    "version": 3
   },
   "file_extension": ".py",
   "mimetype": "text/x-python",
   "name": "python",
   "nbconvert_exporter": "python",
   "pygments_lexer": "ipython3",
   "version": "3.7.3"
  },
  "mimetype": "text/x-python",
  "name": "python",
  "npconvert_exporter": "python",
  "pygments_lexer": "ipython3",
  "version": 3
 },
 "nbformat": 4,
 "nbformat_minor": 2
}