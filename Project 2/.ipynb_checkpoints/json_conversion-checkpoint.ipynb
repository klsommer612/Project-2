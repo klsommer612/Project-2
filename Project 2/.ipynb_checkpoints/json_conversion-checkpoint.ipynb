{
 "cells": [
  {
   "cell_type": "code",
   "execution_count": 1,
   "metadata": {},
   "outputs": [],
   "source": [
    "# Dependencies\n",
    "import csv\n",
    "import json"
   ]
  },
  {
   "cell_type": "code",
   "execution_count": 2,
   "metadata": {},
   "outputs": [],
   "source": [
    "# Create file path for josn file\n",
    "jsonFilePath = 'data/data.json'"
   ]
  },
  {
   "cell_type": "code",
   "execution_count": 5,
   "metadata": {},
   "outputs": [],
   "source": [
    "# #Create nested dictionaries from csv file\n",
    "filePath = open('data/judge_data_raw.csv', 'r')\n",
    "\n",
    "reader = csv.reader(filePath)\n",
    "\n",
    "court_dict = {}\n",
    "\n",
    "for row in reader:\n",
    "    court_dict[row[0]] = row[1]\n",
    "    court_dict[row[2]] = [{row[3]: row[4],\n",
    "                           row[5]: [{row[6]: row[7]}]\n",
    "#                            row[8]: [{row[9]: row[10]}]\n",
    "                           }]\n"
   ]
  },
  {
   "cell_type": "code",
   "execution_count": 6,
   "metadata": {},
   "outputs": [
    {
     "name": "stdout",
     "output_type": "stream",
     "text": [
      "{'name': 'Court Type', 'children': [{'name': 'U.S. District Court', 'children': [{'Gender': 'Male'}]}]}\n"
     ]
    }
   ],
   "source": [
    "print(court_dict)"
   ]
  },
  {
   "cell_type": "code",
   "execution_count": null,
   "metadata": {},
   "outputs": [],
   "source": [
    "# new_dict={}\n",
    "\n",
    "# with open('data/judge_data_raw.csv','r')as csv_file:\n",
    "#     data=csv.DictReader(csv_file,delimiter=\",\")\n",
    "#     for row in data:\n",
    "#         dict_brand=new_dict.get(row['name'],dict())\n",
    "#         dict_brand[row['Court Type']]={k:row[k] for k in ('name','children')}\n",
    "#         new_dict[row['name']]=dict_brand\n",
    "# print(new_dict)"
   ]
  },
  {
   "cell_type": "code",
   "execution_count": null,
   "metadata": {},
   "outputs": [],
   "source": [
    "def set_default(obj):\n",
    "    if isinstance(obj, set):\n",
    "        return list(obj)\n",
    "    raise TypeError\n",
    "\n",
    "result = json.dumps(court_dict, default=set_default)"
   ]
  },
  {
   "cell_type": "code",
   "execution_count": null,
   "metadata": {},
   "outputs": [],
   "source": [
    "# Create new json file and write to it\n",
    "with open(jsonFilePath, 'w') as jsonFile:\n",
    "    jsonFile.write(json.dumps(court_dict, indent=4))"
   ]
  },
  {
   "cell_type": "code",
   "execution_count": null,
   "metadata": {},
   "outputs": [],
   "source": []
  },
  {
   "cell_type": "code",
   "execution_count": null,
   "metadata": {},
   "outputs": [],
   "source": []
  },
  {
   "cell_type": "code",
   "execution_count": null,
   "metadata": {},
   "outputs": [],
   "source": []
  },
  {
   "cell_type": "code",
   "execution_count": null,
   "metadata": {},
   "outputs": [],
   "source": [
    "# # Create dictionary from csv file\n",
    "# court_dict = {}\n",
    "\n",
    "# with open('data/judge_data.csv', 'r') as data_file:\n",
    "#     data = csv.DictReader(data_file, delimiter=\",\")\n",
    "#     for row in data:\n",
    "#         court_name = row['name']\n",
    "#         if not court_name in court_dict:\n",
    "#             court_dict[court_name] = {}\n",
    "#         court = row['children__name']\n",
    "#         if not court in court_dict[court_name]:\n",
    "#             court_dict[court_name][court] = {}\n",
    "#         gender_name = row['children__children__name']\n",
    "#         if not gender_name in court_dict[court_name][court]:\n",
    "#             court_dict[court_name][court][gender_name] = {}\n",
    "#         gender = row['children__children__size']\n",
    "#         if not gender in court_dict[court_name][court][gender_name]:\n",
    "#             court_dict[court_name][court][gender_name][gender] = {}\n",
    "#         race_name = row['children__children__children__name']\n",
    "#         if not race_name in court_dict[court_name][court][gender_name][gender]:\n",
    "#             court_dict[court_name][court][gender_name][gender][race_name] = {}\n",
    "#         race = row['children__children__children__children__size']\n",
    "#         if not race in court_dict[court_name][court][gender_name][gender][race_name]:\n",
    "#             court_dict[court_name][court][gender_name][gender][race_name][race] = {'judge': []}\n",
    "#         judge = row['children__children__children__size']\n",
    "#         court_dict[court_name][court][gender_name][gender][race_name][race]['judge'].append(judge)"
   ]
  },
  {
   "cell_type": "code",
   "execution_count": null,
   "metadata": {},
   "outputs": [],
   "source": []
  }
 ],
 "metadata": {
  "file_extension": ".py",
  "kernelspec": {
   "display_name": "Python 3",
   "language": "python",
   "name": "python3"
  },
  "language_info": {
   "codemirror_mode": {
    "name": "ipython",
    "version": 3
   },
   "file_extension": ".py",
   "mimetype": "text/x-python",
   "name": "python",
   "nbconvert_exporter": "python",
   "pygments_lexer": "ipython3",
   "version": "3.7.3"
  },
  "mimetype": "text/x-python",
  "name": "python",
  "npconvert_exporter": "python",
  "pygments_lexer": "ipython3",
  "version": 3
 },
 "nbformat": 4,
 "nbformat_minor": 2
}
